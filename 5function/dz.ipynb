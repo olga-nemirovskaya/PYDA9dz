{
 "cells": [
  {
   "cell_type": "code",
   "execution_count": 8,
   "metadata": {},
   "outputs": [],
   "source": [
    "documents = [\n",
    "    {'type': 'passport', 'number': '2207 876234', 'name': 'Василий Гупкин'},\n",
    "    {'type': 'invoice', 'number': '11-2', 'name': 'Геннадий Покемонов'},\n",
    "    {'type': 'insurance', 'number': '10006', 'name': 'Аристарх Павлов'}\n",
    "]"
   ]
  },
  {
   "cell_type": "code",
   "execution_count": 2,
   "metadata": {},
   "outputs": [],
   "source": [
    "directories = {\n",
    "    '1': ['2207 876234', '11-2'],\n",
    "    '2': ['10006'],\n",
    "    '3': []\n",
    "}"
   ]
  },
  {
   "cell_type": "code",
   "execution_count": 14,
   "metadata": {},
   "outputs": [
    {
     "name": "stdout",
     "output_type": "stream",
     "text": [
      "Введите номер документа: 2207 876234\n",
      "Василий Гупкин\n"
     ]
    }
   ],
   "source": [
    "# p – people – команда, которая спросит номер документа и выведет имя человека, которому он принадлежит;\n",
    "\n",
    "doc_number = input('Введите номер документа: ')\n",
    "\n",
    "def personal_doc_number (doc_number):\n",
    "    for doc in documents:\n",
    "        if doc_number == (f'{doc [\"number\"]}'):\n",
    "            print (f'{doc [\"name\"]}')\n",
    "    return  \n",
    "personal_doc_number (doc_number)\n"
   ]
  },
  {
   "cell_type": "code",
   "execution_count": null,
   "metadata": {},
   "outputs": [],
   "source": [
    "# s – shelf – команда, которая спросит номер документа и выведет номер полки, на которой он находится\n",
    "\n",
    "def document_place (shelfs_dict):\n",
    "    doc_number = input('Введите номер документа: ')   \n",
    "    for shelfs_item in shelfs_dict.items():\n",
    "        for shelfs_item_info in shelfs_item[1]:\n",
    "            if doc_number == shelfs_item_info:\n",
    "                print (shelf_item [0])\n",
    "            else:\n",
    "                print ('Такого документа нет')\n",
    "                    \n",
    "document_place (directories)"
   ]
  },
  {
   "cell_type": "code",
   "execution_count": 7,
   "metadata": {},
   "outputs": [
    {
     "name": "stdout",
     "output_type": "stream",
     "text": [
      "Введите номер полки: 4\n",
      "добавлена папка 4\n",
      "{'1': ['2207 876234', '11-2'], '2': ['10006'], '3': [], '4': ' '}\n"
     ]
    }
   ],
   "source": [
    "# as – add shelf – команда, которая спросит номер новой полки и добавит ее в перечень.\n",
    "# Предусмотрите случай, когда пользователь добавляет полку, которая уже существует.\n",
    "documents = [\n",
    "    {'type': 'passport', 'number': '2207 876234', 'name': 'Василий Гупкин'},\n",
    "    {'type': 'invoice', 'number': '11-2', 'name': 'Геннадий Покемонов'},\n",
    "    {'type': 'insurance', 'number': '10006', 'name': 'Аристарх Павлов'}\n",
    "]\n",
    "directories = {\n",
    "    '1': ['2207 876234', '11-2'],\n",
    "    '2': ['10006'],\n",
    "    '3': []\n",
    "}\n",
    "\n",
    "def add_dir(directories):\n",
    "    shelf_num = input('Введите номер полки: ')\n",
    "    for doc in directories.items():\n",
    "            if doc[0] == shelf_num:\n",
    "                return ('такая папка уже существует')\n",
    "            directories [shelf_num] = ' '\n",
    "            print ('добавлена папка', shelf_num)\n",
    "            return print (directories)\n",
    "add_dir(directories)"
   ]
  },
  {
   "cell_type": "code",
   "execution_count": 13,
   "metadata": {},
   "outputs": [
    {
     "name": "stdout",
     "output_type": "stream",
     "text": [
      "passport \"2207 876234\" 'Василий Гупкин' \n",
      "invoice \"11-2\" 'Геннадий Покемонов' \n",
      "insurance \"10006\" 'Аристарх Павлов' \n"
     ]
    }
   ],
   "source": [
    "# l – list – команда, которая выведет список всех документов в формате\n",
    "# passport \"2207 876234\" \"Василий Гупкин\"\n",
    "\n",
    "def docs_list ():\n",
    "    for doc in documents:\n",
    "        print (f'{doc [\"type\"]} \\\"{doc [\"number\"]}\\\" \\'{doc [\"name\"]}\\' ')\n",
    "        \n",
    "docs_list ()"
   ]
  },
  {
   "cell_type": "code",
   "execution_count": null,
   "metadata": {},
   "outputs": [],
   "source": [
    "# m – move – команда, которая спросит номер документа и целевую полку и переместит его с текущей полки на целевую\n",
    "directories = {\n",
    "    '1': ['2207 876234', '11-2'],\n",
    "    '2': ['10006'],\n",
    "    '3': []\n",
    "}\n",
    "def move (shelfs_dict):\n",
    "    doc_number = input('Введите номер документа: ')   \n",
    "    shelf_num = input('Введите номер целевой полки: ')\n",
    "    for shelfs_item in shelfs_dict.items():\n",
    "        for shelfs_item_info in shelfs_item[1]:\n",
    "            if doc_number == shelfs_item_info:\n",
    "                shelfs_item[1].remove(shelfs_item_info)\n",
    "    for shelf_item in shelfs_dict.items():\n",
    "        if shelf_item [0] == shelf_num:\n",
    "            shelfs_item[1].append(doc_number)\n",
    "    print (\"Новый перечень:\", shelfs_dict)\n",
    "    \n",
    "move (directories)\n",
    "\n"
   ]
  },
  {
   "cell_type": "code",
   "execution_count": null,
   "metadata": {},
   "outputs": [],
   "source": []
  },
  {
   "cell_type": "code",
   "execution_count": null,
   "metadata": {},
   "outputs": [],
   "source": [
    "# d – delete – команда, которая спросит номер документа и удалит его из каталога и из перечня полок. \n",
    "# Предусмотрите сценарий, когда пользователь вводит несуществующий документ;\n",
    "\n",
    "from pprint import pprint\n",
    "documents = [\n",
    "    {'type': 'passport', 'number': '2207 876234', 'name': 'Василий Гупкин'},\n",
    "    {'type': 'invoice', 'number': '11-2', 'name': 'Геннадий Покемонов'},\n",
    "    {'type': 'insurance', 'number': '10006', 'name': 'Аристарх Павлов'}\n",
    "]\n",
    "directories = {\n",
    "    '1': ['2207 876234', '11-2'],\n",
    "    '2': ['10006'],\n",
    "    '3': []\n",
    "}\n",
    "def dell_doc(direct_dict, documents):\n",
    "    i = 0\n",
    "    j = 0\n",
    "    doc_number = input('Введите номер документа: ')\n",
    "    for doc in direct_dict.items():\n",
    "#         print (doc)\n",
    "        for document in doc[1]:\n",
    "            if document == doc_number:\n",
    "                doc[1].remove(document)\n",
    "            else:\n",
    "                i = i + 1\n",
    "        if i == len(direct_dict):\n",
    "            print('такого документа нет')\n",
    "            break\n",
    "#     print(direct_dict)\n",
    "    for doc in documents:\n",
    "        if doc['number'] == doc_number:\n",
    "           del(doc['type'])\n",
    "           del(doc['number'])\n",
    "           del(doc['name'])\n",
    "#     print(doc)\n",
    "    return print('документ удален', direct_dict, documents, sep='\\n')\n",
    "dell_doc(directories, documents)"
   ]
  },
  {
   "cell_type": "code",
   "execution_count": null,
   "metadata": {},
   "outputs": [],
   "source": []
  },
  {
   "cell_type": "code",
   "execution_count": null,
   "metadata": {},
   "outputs": [],
   "source": [
    "# a – add – команда, которая добавит новый документ в каталог и в перечень полок, спросив его номер, тип, \n",
    "# имя владельца и номер полки, на котором он будет храниться. \n",
    "\n",
    "documents = [\n",
    "    {'type': 'passport', 'number': '2207 876234', 'name': 'Василий Гупкин'},\n",
    "    {'type': 'invoice', 'number': '11-2', 'name': 'Геннадий Покемонов'},\n",
    "    {'type': 'insurance', 'number': '10006', 'name': 'Аристарх Павлов'}\n",
    "]\n",
    "directories = {\n",
    "    '1': ['2207 876234', '11-2'],\n",
    "    '2': ['10006'],\n",
    "    '3': []\n",
    "}\n",
    "doc_number = input('Введите номер нового документа: ')   \n",
    "shelf_num = input('Введите номер полки: ')\n",
    "doc_type = input('Введите тип документа: ')\n",
    "doc_name = input('Введите имя владельца: ')\n",
    "def add_doc(direct_dict):\n",
    "    for doc in directories.items():\n",
    "        if doc[0] == shelf_num:\n",
    "               doc[1].append(doc_number)          \n",
    "    print(direct_dict)\n",
    "add_doc(directories)\n",
    "def add_docs(document_list):  \n",
    "    documents.append({'type': doc_type, 'number': doc_number, 'name': doc_name})\n",
    "    print(document_list)\n",
    "add_docs(documents)"
   ]
  }
 ],
 "metadata": {
  "kernelspec": {
   "display_name": "Python 3",
   "language": "python",
   "name": "python3"
  },
  "language_info": {
   "codemirror_mode": {
    "name": "ipython",
    "version": 3
   },
   "file_extension": ".py",
   "mimetype": "text/x-python",
   "name": "python",
   "nbconvert_exporter": "python",
   "pygments_lexer": "ipython3",
   "version": "3.7.6"
  }
 },
 "nbformat": 4,
 "nbformat_minor": 4
}
