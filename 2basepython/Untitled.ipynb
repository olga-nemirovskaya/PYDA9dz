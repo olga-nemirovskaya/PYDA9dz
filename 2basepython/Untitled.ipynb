{
 "cells": [
  {
   "cell_type": "code",
   "execution_count": 1,
   "metadata": {},
   "outputs": [],
   "source": [
    "long_phrase = 'Насколько проще было бы писать программы, если бы не заказчики'\n",
    "short_phrase = '640Кб должно хватить для любых задач. Билл Гейтс (по легенде)'"
   ]
  },
  {
   "cell_type": "code",
   "execution_count": 3,
   "metadata": {},
   "outputs": [
    {
     "data": {
      "text/plain": [
       "True"
      ]
     },
     "execution_count": 3,
     "metadata": {},
     "output_type": "execute_result"
    }
   ],
   "source": [
    "long_phrase > short_phrase"
   ]
  },
  {
   "cell_type": "code",
   "execution_count": 19,
   "metadata": {},
   "outputs": [
    {
     "name": "stdout",
     "output_type": "stream",
     "text": [
      "Объем файла равен 562677.2727272727 Mb\n"
     ]
    }
   ],
   "source": [
    "b = 123789\n",
    "m = 2 ^ 20\n",
    "x = 100 / (m / b)\n",
    "print (\"Объем файла равен\", x ,\"Mb\" ) "
   ]
  },
  {
   "cell_type": "code",
   "execution_count": 28,
   "metadata": {},
   "outputs": [
    {
     "name": "stdout",
     "output_type": "stream",
     "text": [
      "Введите дату рождения:6\n",
      "Введите месяц рождения строчными буквами:март\n",
      "Рыбы\n"
     ]
    }
   ],
   "source": [
    "user_input1 = int (input('Введите дату рождения:'))\n",
    "string = str (input('Введите месяц рождения строчными буквами:'))\n",
    "\n",
    "if  user_input1 >= 21 and string == (\"март\"):\n",
    "    print (\"Овен\")\n",
    "elif 1 <= user_input1 <= 20 and string == (\"апрель\"):\n",
    "    print (\"Овен\")\n",
    "elif user_input1 >= 21 and string == (\"апрель\"):\n",
    "    print (\"Телец\")\n",
    "elif 1 <= user_input1 <= 20 and string == (\"май\"):\n",
    "    print (\"Телец\")   \n",
    "elif user_input1 >= 21 and string == (\"май\"):\n",
    "    print (\"Близнецы\")\n",
    "elif 1 <= user_input1 <= 20 and string == (\"июнь\"):\n",
    "    print (\"Близнецы\") \n",
    "elif user_input1 >= 20 and string == (\"февраль\"):\n",
    "    print (\"Рыбы\")\n",
    "elif 1 <= user_input1 <= 20 and string == (\"март\"):\n",
    "    print (\"Рыбы\") "
   ]
  },
  {
   "cell_type": "code",
   "execution_count": 32,
   "metadata": {},
   "outputs": [
    {
     "name": "stdout",
     "output_type": "stream",
     "text": [
      "Введите сумму зарплаты:100000\n",
      "Введите сколько процентов уходит на ипотеку:30\n",
      "Введите сколько процентов уходит на жизнь:50\n",
      "Введите сколько раз в год была премия:2\n",
      "На ипотеку было потрачено 360000.0 рублей. Было накоплено 440000.0 рублей\n"
     ]
    }
   ],
   "source": [
    "user_input1 = int (input('Введите сумму зарплаты:'))\n",
    "string1 = int (input('Введите сколько процентов уходит на ипотеку:'))\n",
    "string2 = int (input('Введите сколько процентов уходит на жизнь:'))\n",
    "string3 = int (input('Введите сколько раз в год была премия:'))\n",
    "i = ((user_input1 / 100) * string1) *12\n",
    "n = ((user_input1 / 100) * (100 - string1 - string2)) * 12 + (user_input1 * string3)\n",
    "print (\"На ипотеку было потрачено\", i , \"рублей. Было накоплено\", n ,\"рублей\")"
   ]
  },
  {
   "cell_type": "code",
   "execution_count": null,
   "metadata": {},
   "outputs": [],
   "source": []
  }
 ],
 "metadata": {
  "kernelspec": {
   "display_name": "Python 3",
   "language": "python",
   "name": "python3"
  },
  "language_info": {
   "codemirror_mode": {
    "name": "ipython",
    "version": 3
   },
   "file_extension": ".py",
   "mimetype": "text/x-python",
   "name": "python",
   "nbconvert_exporter": "python",
   "pygments_lexer": "ipython3",
   "version": "3.7.6"
  }
 },
 "nbformat": 4,
 "nbformat_minor": 4
}
